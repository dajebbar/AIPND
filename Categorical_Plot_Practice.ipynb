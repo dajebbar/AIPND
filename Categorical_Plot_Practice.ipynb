{
  "nbformat": 4,
  "nbformat_minor": 0,
  "metadata": {
    "hide_input": false,
    "kernelspec": {
      "display_name": "Python 3",
      "language": "python",
      "name": "python3"
    },
    "language_info": {
      "codemirror_mode": {
        "name": "ipython",
        "version": 3
      },
      "file_extension": ".py",
      "mimetype": "text/x-python",
      "name": "python",
      "nbconvert_exporter": "python",
      "pygments_lexer": "ipython3",
      "version": "3.8.3"
    },
    "colab": {
      "name": "Categorical_Plot_Practice.ipynb",
      "provenance": [],
      "include_colab_link": true
    }
  },
  "cells": [
    {
      "cell_type": "markdown",
      "metadata": {
        "id": "view-in-github",
        "colab_type": "text"
      },
      "source": [
        "<a href=\"https://colab.research.google.com/github/dajebbar/AIPND/blob/main/Categorical_Plot_Practice.ipynb\" target=\"_parent\"><img src=\"https://colab.research.google.com/assets/colab-badge.svg\" alt=\"Open In Colab\"/></a>"
      ]
    },
    {
      "cell_type": "code",
      "metadata": {
        "id": "jAys1oPglNdQ"
      },
      "source": [
        "# prerequisite package imports\n",
        "import numpy as np\n",
        "import pandas as pd\n",
        "import matplotlib.pyplot as plt\n",
        "import seaborn as sb\n",
        "\n",
        "plt.style.use('fivethirtyeight')\n",
        "%matplotlib inline\n",
        "\n",
        "from solutions_biv import categorical_solution_1"
      ],
      "execution_count": null,
      "outputs": []
    },
    {
      "cell_type": "markdown",
      "metadata": {
        "id": "hMO0aQh-lNdf"
      },
      "source": [
        "We'll continue to make use of the fuel economy dataset in this workspace."
      ]
    },
    {
      "cell_type": "code",
      "metadata": {
        "id": "HT8vvDgHlNdg",
        "outputId": "765a3e06-48f1-45a8-ff4e-8953822a2184"
      },
      "source": [
        "fuel_econ = pd.read_csv('./data/fuel_econ.csv')\n",
        "fuel_econ.head()"
      ],
      "execution_count": null,
      "outputs": [
        {
          "output_type": "execute_result",
          "data": {
            "text/html": [
              "<div>\n",
              "<style scoped>\n",
              "    .dataframe tbody tr th:only-of-type {\n",
              "        vertical-align: middle;\n",
              "    }\n",
              "\n",
              "    .dataframe tbody tr th {\n",
              "        vertical-align: top;\n",
              "    }\n",
              "\n",
              "    .dataframe thead th {\n",
              "        text-align: right;\n",
              "    }\n",
              "</style>\n",
              "<table border=\"1\" class=\"dataframe\">\n",
              "  <thead>\n",
              "    <tr style=\"text-align: right;\">\n",
              "      <th></th>\n",
              "      <th>id</th>\n",
              "      <th>make</th>\n",
              "      <th>model</th>\n",
              "      <th>year</th>\n",
              "      <th>VClass</th>\n",
              "      <th>drive</th>\n",
              "      <th>trans</th>\n",
              "      <th>fuelType</th>\n",
              "      <th>cylinders</th>\n",
              "      <th>displ</th>\n",
              "      <th>pv2</th>\n",
              "      <th>pv4</th>\n",
              "      <th>city</th>\n",
              "      <th>UCity</th>\n",
              "      <th>highway</th>\n",
              "      <th>UHighway</th>\n",
              "      <th>comb</th>\n",
              "      <th>co2</th>\n",
              "      <th>feScore</th>\n",
              "      <th>ghgScore</th>\n",
              "    </tr>\n",
              "  </thead>\n",
              "  <tbody>\n",
              "    <tr>\n",
              "      <th>0</th>\n",
              "      <td>32204</td>\n",
              "      <td>Nissan</td>\n",
              "      <td>GT-R</td>\n",
              "      <td>2013</td>\n",
              "      <td>Subcompact Cars</td>\n",
              "      <td>All-Wheel Drive</td>\n",
              "      <td>Automatic (AM6)</td>\n",
              "      <td>Premium Gasoline</td>\n",
              "      <td>6</td>\n",
              "      <td>3.8</td>\n",
              "      <td>79</td>\n",
              "      <td>0</td>\n",
              "      <td>16.4596</td>\n",
              "      <td>20.2988</td>\n",
              "      <td>22.5568</td>\n",
              "      <td>30.1798</td>\n",
              "      <td>18.7389</td>\n",
              "      <td>471</td>\n",
              "      <td>4</td>\n",
              "      <td>4</td>\n",
              "    </tr>\n",
              "    <tr>\n",
              "      <th>1</th>\n",
              "      <td>32205</td>\n",
              "      <td>Volkswagen</td>\n",
              "      <td>CC</td>\n",
              "      <td>2013</td>\n",
              "      <td>Compact Cars</td>\n",
              "      <td>Front-Wheel Drive</td>\n",
              "      <td>Automatic (AM-S6)</td>\n",
              "      <td>Premium Gasoline</td>\n",
              "      <td>4</td>\n",
              "      <td>2.0</td>\n",
              "      <td>94</td>\n",
              "      <td>0</td>\n",
              "      <td>21.8706</td>\n",
              "      <td>26.9770</td>\n",
              "      <td>31.0367</td>\n",
              "      <td>42.4936</td>\n",
              "      <td>25.2227</td>\n",
              "      <td>349</td>\n",
              "      <td>6</td>\n",
              "      <td>6</td>\n",
              "    </tr>\n",
              "    <tr>\n",
              "      <th>2</th>\n",
              "      <td>32206</td>\n",
              "      <td>Volkswagen</td>\n",
              "      <td>CC</td>\n",
              "      <td>2013</td>\n",
              "      <td>Compact Cars</td>\n",
              "      <td>Front-Wheel Drive</td>\n",
              "      <td>Automatic (S6)</td>\n",
              "      <td>Premium Gasoline</td>\n",
              "      <td>6</td>\n",
              "      <td>3.6</td>\n",
              "      <td>94</td>\n",
              "      <td>0</td>\n",
              "      <td>17.4935</td>\n",
              "      <td>21.2000</td>\n",
              "      <td>26.5716</td>\n",
              "      <td>35.1000</td>\n",
              "      <td>20.6716</td>\n",
              "      <td>429</td>\n",
              "      <td>5</td>\n",
              "      <td>5</td>\n",
              "    </tr>\n",
              "    <tr>\n",
              "      <th>3</th>\n",
              "      <td>32207</td>\n",
              "      <td>Volkswagen</td>\n",
              "      <td>CC 4motion</td>\n",
              "      <td>2013</td>\n",
              "      <td>Compact Cars</td>\n",
              "      <td>All-Wheel Drive</td>\n",
              "      <td>Automatic (S6)</td>\n",
              "      <td>Premium Gasoline</td>\n",
              "      <td>6</td>\n",
              "      <td>3.6</td>\n",
              "      <td>94</td>\n",
              "      <td>0</td>\n",
              "      <td>16.9415</td>\n",
              "      <td>20.5000</td>\n",
              "      <td>25.2190</td>\n",
              "      <td>33.5000</td>\n",
              "      <td>19.8774</td>\n",
              "      <td>446</td>\n",
              "      <td>5</td>\n",
              "      <td>5</td>\n",
              "    </tr>\n",
              "    <tr>\n",
              "      <th>4</th>\n",
              "      <td>32208</td>\n",
              "      <td>Chevrolet</td>\n",
              "      <td>Malibu eAssist</td>\n",
              "      <td>2013</td>\n",
              "      <td>Midsize Cars</td>\n",
              "      <td>Front-Wheel Drive</td>\n",
              "      <td>Automatic (S6)</td>\n",
              "      <td>Regular Gasoline</td>\n",
              "      <td>4</td>\n",
              "      <td>2.4</td>\n",
              "      <td>0</td>\n",
              "      <td>95</td>\n",
              "      <td>24.7726</td>\n",
              "      <td>31.9796</td>\n",
              "      <td>35.5340</td>\n",
              "      <td>51.8816</td>\n",
              "      <td>28.6813</td>\n",
              "      <td>310</td>\n",
              "      <td>8</td>\n",
              "      <td>8</td>\n",
              "    </tr>\n",
              "  </tbody>\n",
              "</table>\n",
              "</div>"
            ],
            "text/plain": [
              "      id        make           model  year           VClass  \\\n",
              "0  32204      Nissan            GT-R  2013  Subcompact Cars   \n",
              "1  32205  Volkswagen              CC  2013     Compact Cars   \n",
              "2  32206  Volkswagen              CC  2013     Compact Cars   \n",
              "3  32207  Volkswagen      CC 4motion  2013     Compact Cars   \n",
              "4  32208   Chevrolet  Malibu eAssist  2013     Midsize Cars   \n",
              "\n",
              "               drive              trans          fuelType  cylinders  displ  \\\n",
              "0    All-Wheel Drive    Automatic (AM6)  Premium Gasoline          6    3.8   \n",
              "1  Front-Wheel Drive  Automatic (AM-S6)  Premium Gasoline          4    2.0   \n",
              "2  Front-Wheel Drive     Automatic (S6)  Premium Gasoline          6    3.6   \n",
              "3    All-Wheel Drive     Automatic (S6)  Premium Gasoline          6    3.6   \n",
              "4  Front-Wheel Drive     Automatic (S6)  Regular Gasoline          4    2.4   \n",
              "\n",
              "   pv2  pv4     city    UCity  highway  UHighway     comb  co2  feScore  \\\n",
              "0   79    0  16.4596  20.2988  22.5568   30.1798  18.7389  471        4   \n",
              "1   94    0  21.8706  26.9770  31.0367   42.4936  25.2227  349        6   \n",
              "2   94    0  17.4935  21.2000  26.5716   35.1000  20.6716  429        5   \n",
              "3   94    0  16.9415  20.5000  25.2190   33.5000  19.8774  446        5   \n",
              "4    0   95  24.7726  31.9796  35.5340   51.8816  28.6813  310        8   \n",
              "\n",
              "   ghgScore  \n",
              "0         4  \n",
              "1         6  \n",
              "2         5  \n",
              "3         5  \n",
              "4         8  "
            ]
          },
          "metadata": {
            "tags": []
          },
          "execution_count": 2
        }
      ]
    },
    {
      "cell_type": "markdown",
      "metadata": {
        "id": "zqyJsRI-lNdj"
      },
      "source": [
        "**Task**: Use a plot to explore whether or not there differences in recommended fuel type depending on the vehicle class. Only investigate the difference between the two main fuel types found in the 'fuelType' variable: Regular Gasoline and Premium Gasoline. (The other fuel types represented in the dataset are of much lower frequency compared to the main two, that they'll be more distracting than informative.) **Note**: The dataset as provided does not retain any of the sorting of the 'VClass' variable, so you will also need to copy over any code you used previously to sort the category levels."
      ]
    },
    {
      "cell_type": "code",
      "metadata": {
        "id": "auAin0_slNdk",
        "outputId": "1caad521-6445-4b6d-8d71-76434a8e4f58"
      },
      "source": [
        "#fuel_econ[['VClass', 'fuelType']].describe()\n",
        "#fuel_econ['fuelType'].unique()\n",
        "order_fuel = fuel_econ['fuelType'].value_counts().index\n",
        "one_color = sb.color_palette()[0]\n",
        "\n",
        "sb.countplot(data=fuel_econ, x='fuelType',\n",
        "order=order_fuel, color=one_color);\n",
        "plt.xticks(rotation=15)"
      ],
      "execution_count": null,
      "outputs": [
        {
          "output_type": "execute_result",
          "data": {
            "text/plain": [
              "(array([0, 1, 2, 3, 4]),\n",
              " [Text(0, 0, 'Premium Gasoline'),\n",
              "  Text(1, 0, 'Regular Gasoline'),\n",
              "  Text(2, 0, 'Diesel'),\n",
              "  Text(3, 0, 'Midgrade Gasoline'),\n",
              "  Text(4, 0, 'Natural Gas')])"
            ]
          },
          "metadata": {
            "tags": []
          },
          "execution_count": 3
        },
        {
          "output_type": "display_data",
          "data": {
            "image/png": "[encoded data removed]",
            "text/plain": [
              "<Figure size 432x288 with 1 Axes>"
            ]
          },
          "metadata": {
            "tags": [],
            "needs_background": "light"
          }
        }
      ]
    },
    {
      "cell_type": "code",
      "metadata": {
        "id": "zDtbC3frlNdl",
        "outputId": "4956b87c-c995-48d7-9138-099f20ca6070"
      },
      "source": [
        "fuel_df = fuel_econ[['VClass', 'fuelType']]\n",
        "print(fuel_df.shape)\n",
        "fuel_df.head()"
      ],
      "execution_count": null,
      "outputs": [
        {
          "output_type": "stream",
          "text": [
            "(3929, 2)\n"
          ],
          "name": "stdout"
        },
        {
          "output_type": "execute_result",
          "data": {
            "text/html": [
              "<div>\n",
              "<style scoped>\n",
              "    .dataframe tbody tr th:only-of-type {\n",
              "        vertical-align: middle;\n",
              "    }\n",
              "\n",
              "    .dataframe tbody tr th {\n",
              "        vertical-align: top;\n",
              "    }\n",
              "\n",
              "    .dataframe thead th {\n",
              "        text-align: right;\n",
              "    }\n",
              "</style>\n",
              "<table border=\"1\" class=\"dataframe\">\n",
              "  <thead>\n",
              "    <tr style=\"text-align: right;\">\n",
              "      <th></th>\n",
              "      <th>VClass</th>\n",
              "      <th>fuelType</th>\n",
              "    </tr>\n",
              "  </thead>\n",
              "  <tbody>\n",
              "    <tr>\n",
              "      <th>0</th>\n",
              "      <td>Subcompact Cars</td>\n",
              "      <td>Premium Gasoline</td>\n",
              "    </tr>\n",
              "    <tr>\n",
              "      <th>1</th>\n",
              "      <td>Compact Cars</td>\n",
              "      <td>Premium Gasoline</td>\n",
              "    </tr>\n",
              "    <tr>\n",
              "      <th>2</th>\n",
              "      <td>Compact Cars</td>\n",
              "      <td>Premium Gasoline</td>\n",
              "    </tr>\n",
              "    <tr>\n",
              "      <th>3</th>\n",
              "      <td>Compact Cars</td>\n",
              "      <td>Premium Gasoline</td>\n",
              "    </tr>\n",
              "    <tr>\n",
              "      <th>4</th>\n",
              "      <td>Midsize Cars</td>\n",
              "      <td>Regular Gasoline</td>\n",
              "    </tr>\n",
              "  </tbody>\n",
              "</table>\n",
              "</div>"
            ],
            "text/plain": [
              "            VClass          fuelType\n",
              "0  Subcompact Cars  Premium Gasoline\n",
              "1     Compact Cars  Premium Gasoline\n",
              "2     Compact Cars  Premium Gasoline\n",
              "3     Compact Cars  Premium Gasoline\n",
              "4     Midsize Cars  Regular Gasoline"
            ]
          },
          "metadata": {
            "tags": []
          },
          "execution_count": 4
        }
      ]
    },
    {
      "cell_type": "code",
      "metadata": {
        "id": "h_klSfIJlNdm",
        "outputId": "c423c4f1-3e4d-4f1f-8faf-3d507277362b"
      },
      "source": [
        "mask = ((fuel_df['fuelType'] == 'Premium Gasoline') | (fuel_df['fuelType'] == 'Regular Gasoline'))\n",
        "\n",
        "fuel_df = fuel_df[mask]\n",
        "print(fuel_df.shape)\n",
        "fuel_df.head()"
      ],
      "execution_count": null,
      "outputs": [
        {
          "output_type": "stream",
          "text": [
            "(3823, 2)\n"
          ],
          "name": "stdout"
        },
        {
          "output_type": "execute_result",
          "data": {
            "text/html": [
              "<div>\n",
              "<style scoped>\n",
              "    .dataframe tbody tr th:only-of-type {\n",
              "        vertical-align: middle;\n",
              "    }\n",
              "\n",
              "    .dataframe tbody tr th {\n",
              "        vertical-align: top;\n",
              "    }\n",
              "\n",
              "    .dataframe thead th {\n",
              "        text-align: right;\n",
              "    }\n",
              "</style>\n",
              "<table border=\"1\" class=\"dataframe\">\n",
              "  <thead>\n",
              "    <tr style=\"text-align: right;\">\n",
              "      <th></th>\n",
              "      <th>VClass</th>\n",
              "      <th>fuelType</th>\n",
              "    </tr>\n",
              "  </thead>\n",
              "  <tbody>\n",
              "    <tr>\n",
              "      <th>0</th>\n",
              "      <td>Subcompact Cars</td>\n",
              "      <td>Premium Gasoline</td>\n",
              "    </tr>\n",
              "    <tr>\n",
              "      <th>1</th>\n",
              "      <td>Compact Cars</td>\n",
              "      <td>Premium Gasoline</td>\n",
              "    </tr>\n",
              "    <tr>\n",
              "      <th>2</th>\n",
              "      <td>Compact Cars</td>\n",
              "      <td>Premium Gasoline</td>\n",
              "    </tr>\n",
              "    <tr>\n",
              "      <th>3</th>\n",
              "      <td>Compact Cars</td>\n",
              "      <td>Premium Gasoline</td>\n",
              "    </tr>\n",
              "    <tr>\n",
              "      <th>4</th>\n",
              "      <td>Midsize Cars</td>\n",
              "      <td>Regular Gasoline</td>\n",
              "    </tr>\n",
              "  </tbody>\n",
              "</table>\n",
              "</div>"
            ],
            "text/plain": [
              "            VClass          fuelType\n",
              "0  Subcompact Cars  Premium Gasoline\n",
              "1     Compact Cars  Premium Gasoline\n",
              "2     Compact Cars  Premium Gasoline\n",
              "3     Compact Cars  Premium Gasoline\n",
              "4     Midsize Cars  Regular Gasoline"
            ]
          },
          "metadata": {
            "tags": []
          },
          "execution_count": 5
        }
      ]
    },
    {
      "cell_type": "code",
      "metadata": {
        "id": "hhU_EQoYlNdp"
      },
      "source": [
        "sedan_classes = ['Minicompact Cars', 'Subcompact Cars', 'Compact Cars', 'Midsize Cars', 'Large Cars']\n",
        "\n",
        "vclasses = pd.api.types.CategoricalDtype(ordered = True, categories = sedan_classes)\n",
        "fuel_df.loc[:,'VClass'] = fuel_df.loc[:,'VClass'].astype(vclasses)"
      ],
      "execution_count": null,
      "outputs": []
    },
    {
      "cell_type": "code",
      "metadata": {
        "id": "9rV3qbWvlNdq",
        "outputId": "aa45577e-2ee0-4dca-b1f3-e1448b431005"
      },
      "source": [
        "ct_counts = fuel_df.groupby(['VClass', 'fuelType']).size()\n",
        "ct_counts"
      ],
      "execution_count": null,
      "outputs": [
        {
          "output_type": "execute_result",
          "data": {
            "text/plain": [
              "VClass            fuelType        \n",
              "Minicompact Cars  Premium Gasoline    318\n",
              "                  Regular Gasoline      3\n",
              "Subcompact Cars   Premium Gasoline    534\n",
              "                  Regular Gasoline    132\n",
              "Compact Cars      Premium Gasoline    593\n",
              "                  Regular Gasoline    490\n",
              "Midsize Cars      Premium Gasoline    509\n",
              "                  Regular Gasoline    640\n",
              "Large Cars        Premium Gasoline    348\n",
              "                  Regular Gasoline    256\n",
              "dtype: int64"
            ]
          },
          "metadata": {
            "tags": []
          },
          "execution_count": 7
        }
      ]
    },
    {
      "cell_type": "code",
      "metadata": {
        "id": "6rtItq-0lNdt",
        "outputId": "10e16e74-341d-45e7-d77e-6f2d14df998e"
      },
      "source": [
        "ct_counts.reset_index(name='count')\n",
        "ct_counts = ct_counts.unstack(level=-1)\n",
        "ct_counts"
      ],
      "execution_count": null,
      "outputs": [
        {
          "output_type": "execute_result",
          "data": {
            "text/html": [
              "<div>\n",
              "<style scoped>\n",
              "    .dataframe tbody tr th:only-of-type {\n",
              "        vertical-align: middle;\n",
              "    }\n",
              "\n",
              "    .dataframe tbody tr th {\n",
              "        vertical-align: top;\n",
              "    }\n",
              "\n",
              "    .dataframe thead th {\n",
              "        text-align: right;\n",
              "    }\n",
              "</style>\n",
              "<table border=\"1\" class=\"dataframe\">\n",
              "  <thead>\n",
              "    <tr style=\"text-align: right;\">\n",
              "      <th>fuelType</th>\n",
              "      <th>Premium Gasoline</th>\n",
              "      <th>Regular Gasoline</th>\n",
              "    </tr>\n",
              "    <tr>\n",
              "      <th>VClass</th>\n",
              "      <th></th>\n",
              "      <th></th>\n",
              "    </tr>\n",
              "  </thead>\n",
              "  <tbody>\n",
              "    <tr>\n",
              "      <th>Minicompact Cars</th>\n",
              "      <td>318</td>\n",
              "      <td>3</td>\n",
              "    </tr>\n",
              "    <tr>\n",
              "      <th>Subcompact Cars</th>\n",
              "      <td>534</td>\n",
              "      <td>132</td>\n",
              "    </tr>\n",
              "    <tr>\n",
              "      <th>Compact Cars</th>\n",
              "      <td>593</td>\n",
              "      <td>490</td>\n",
              "    </tr>\n",
              "    <tr>\n",
              "      <th>Midsize Cars</th>\n",
              "      <td>509</td>\n",
              "      <td>640</td>\n",
              "    </tr>\n",
              "    <tr>\n",
              "      <th>Large Cars</th>\n",
              "      <td>348</td>\n",
              "      <td>256</td>\n",
              "    </tr>\n",
              "  </tbody>\n",
              "</table>\n",
              "</div>"
            ],
            "text/plain": [
              "fuelType          Premium Gasoline  Regular Gasoline\n",
              "VClass                                              \n",
              "Minicompact Cars               318                 3\n",
              "Subcompact Cars                534               132\n",
              "Compact Cars                   593               490\n",
              "Midsize Cars                   509               640\n",
              "Large Cars                     348               256"
            ]
          },
          "metadata": {
            "tags": []
          },
          "execution_count": 8
        }
      ]
    },
    {
      "cell_type": "code",
      "metadata": {
        "id": "LoXbEAqGlNdu",
        "outputId": "4f0b6b2a-cdfe-487d-b84c-ae8606d78560"
      },
      "source": [
        "plt.figure(figsize=[16, 10])\n",
        "\n",
        "plt.subplot(1,2,1)\n",
        "sb.countplot(data=fuel_df, x='VClass', hue='fuelType');\n",
        "plt.xticks(rotation=15)\n",
        "\n",
        "plt.subplot(1,2,2)\n",
        "sb.heatmap(ct_counts, annot=True, fmt='d');"
      ],
      "execution_count": null,
      "outputs": [
        {
          "output_type": "display_data",
          "data": {
            "image/png": "[encoded data removed]",
            "text/plain": [
              "<Figure size 1152x720 with 3 Axes>"
            ]
          },
          "metadata": {
            "tags": [],
            "needs_background": "light"
          }
        }
      ]
    },
    {
      "cell_type": "code",
      "metadata": {
        "id": "fyaRTiAzlNdv",
        "outputId": "421b3067-bcbc-4ddd-f2c8-64f347d4d2cb"
      },
      "source": [
        "# run this cell to check your work against ours\n",
        "categorical_solution_1()"
      ],
      "execution_count": null,
      "outputs": [
        {
          "output_type": "stream",
          "text": [
            "I chose a clustered bar chart instead of a heat map in this case since there weren't a lot of numbers to plot. If you chose a heat map, did you remember to add a color bar and include annotations? From this plot, you can see that more cars use premium gas over regular gas, and that the smaller cars are biased towards the premium gas grade. It is only in midsize sedans where regular gasoline was used in more cars than premium gasoline.\n"
          ],
          "name": "stdout"
        },
        {
          "output_type": "display_data",
          "data": {
            "image/png": "[encoded data removed]",
            "text/plain": [
              "<Figure size 432x288 with 1 Axes>"
            ]
          },
          "metadata": {
            "tags": [],
            "needs_background": "light"
          }
        }
      ]
    },
    {
      "cell_type": "code",
      "metadata": {
        "id": "R1E0oJ9jlNdw"
      },
      "source": [
        ""
      ],
      "execution_count": null,
      "outputs": []
    }
  ]
}